{
  "nbformat": 4,
  "nbformat_minor": 0,
  "metadata": {
    "colab": {
      "name": "crop-deduplication.ipynb",
      "provenance": [],
      "collapsed_sections": [],
      "include_colab_link": true
    },
    "kernelspec": {
      "name": "python3",
      "display_name": "Python 3"
    }
  },
  "cells": [
    {
      "cell_type": "markdown",
      "metadata": {
        "id": "view-in-github",
        "colab_type": "text"
      },
      "source": [
        "<a href=\"https://colab.research.google.com/github/inhyek/newsest_insta/blob/master/crop_deduplication.ipynb\" target=\"_parent\"><img src=\"https://colab.research.google.com/assets/colab-badge.svg\" alt=\"Open In Colab\"/></a>"
      ]
    },
    {
      "cell_type": "code",
      "metadata": {
        "id": "Kw_Pg6qTLb3k",
        "colab_type": "code",
        "outputId": "36073005-2f60-4ff0-a203-620c1129b4cc",
        "colab": {
          "base_uri": "https://localhost:8080/",
          "height": 35
        }
      },
      "source": [
        "from google.colab import auth, drive\n",
        "auth.authenticate_user()\n",
        "drive.mount('/content/gdrive')\n",
        "\n",
        "COLAB_ROOT='/content/gdrive/My Drive/Colab Notebooks/'\n",
        "DESSERT_ROOT = COLAB_ROOT + 'Dessert/'\n",
        "DATA_ROOT = DESSERT_ROOT + 'data/'"
      ],
      "execution_count": 0,
      "outputs": [
        {
          "output_type": "stream",
          "text": [
            "Mounted at /content/gdrive\n"
          ],
          "name": "stdout"
        }
      ]
    },
    {
      "cell_type": "code",
      "metadata": {
        "id": "bO7D1YDTLv_g",
        "colab_type": "code",
        "colab": {}
      },
      "source": [
        "import os\n",
        "import hashlib\n",
        "import subprocess"
      ],
      "execution_count": 0,
      "outputs": []
    },
    {
      "cell_type": "code",
      "metadata": {
        "id": "2fqHjvb8Lxqs",
        "colab_type": "code",
        "colab": {}
      },
      "source": [
        "SOURCE_DIR = DATA_ROOT + 'crop/'\n",
        "RESULT_DIR = DATA_ROOT + 'crop_dedup/'\n",
        "if not os.path.isdir(RESULT_DIR):\n",
        "    os.makedirs(RESULT_DIR)"
      ],
      "execution_count": 0,
      "outputs": []
    },
    {
      "cell_type": "code",
      "metadata": {
        "id": "idxniPmFOn9I",
        "colab_type": "code",
        "outputId": "8075458d-73de-4608-f216-9866de2df999",
        "colab": {
          "base_uri": "https://localhost:8080/",
          "height": 1000
        }
      },
      "source": [
        "for source_zip in os.listdir(SOURCE_DIR):\n",
        "    print(source_zip)\n",
        "    if os.path.isdir('src/'):\n",
        "        os.system('rm -rf target.zip dst src; mkdir src; mkdir dst')\n",
        "    os.system(\"cp '{}/{}' target.zip\".format(SOURCE_DIR, source_zip))\n",
        "    subprocess.call(['unzip', '-q', 'target.zip', '-d', 'src/'])\n",
        "    \n",
        "    name, ext = os.path.splitext(source_zip)\n",
        "\n",
        "    db = set()\n",
        "    img_list = os.listdir('src/')\n",
        "    n_imgs = len(os.listdir('src/'))\n",
        "    for i, img_file in enumerate(img_list):\n",
        "        if i%500 == 0:\n",
        "            print('{} / {}'.format(i, n_imgs))\n",
        "        with open('src/{}'.format(img_file), 'rb') as f:\n",
        "            h = hashlib.md5(f.read()).hexdigest()\n",
        "            if h in db:\n",
        "                continue\n",
        "            db.add(h)\n",
        "            subprocess.call(['cp', 'src/{}'.format(img_file), 'dst/'])\n",
        "    os.system(\"cd dst; zip -q '{}_dedup.zip' ./*; mv '{}_dedup.zip' '{}'\".format(name, name, RESULT_DIR))\n",
        "    print('Result: {}'.format(len(db)))"
      ],
      "execution_count": 0,
      "outputs": [
        {
          "output_type": "stream",
          "text": [
            "2016_bread.zip\n",
            "0 / 3346\n",
            "500 / 3346\n",
            "1000 / 3346\n",
            "1500 / 3346\n",
            "2000 / 3346\n",
            "2500 / 3346\n",
            "3000 / 3346\n",
            "Result: 2981\n",
            "2016_cake.zip\n",
            "0 / 3480\n",
            "500 / 3480\n",
            "1000 / 3480\n",
            "1500 / 3480\n",
            "2000 / 3480\n",
            "2500 / 3480\n",
            "3000 / 3480\n",
            "Result: 2172\n",
            "2016_icecream.zip\n",
            "0 / 2120\n",
            "500 / 2120\n",
            "1000 / 2120\n",
            "1500 / 2120\n",
            "2000 / 2120\n",
            "Result: 1882\n",
            "2016_macaron.zip\n",
            "0 / 2016\n",
            "500 / 2016\n",
            "1000 / 2016\n",
            "1500 / 2016\n",
            "2000 / 2016\n",
            "Result: 1790\n",
            "2019_bread.zip\n",
            "0 / 3703\n",
            "500 / 3703\n",
            "1000 / 3703\n",
            "1500 / 3703\n",
            "2000 / 3703\n",
            "2500 / 3703\n",
            "3000 / 3703\n",
            "3500 / 3703\n",
            "Result: 3699\n",
            "2019_cake.zip\n",
            "0 / 4386\n",
            "500 / 4386\n",
            "1000 / 4386\n",
            "1500 / 4386\n",
            "2000 / 4386\n",
            "2500 / 4386\n",
            "3000 / 4386\n",
            "3500 / 4386\n",
            "4000 / 4386\n",
            "Result: 4378\n",
            "2019_icecream.zip\n",
            "0 / 1846\n",
            "500 / 1846\n",
            "1000 / 1846\n",
            "1500 / 1846\n",
            "Result: 1846\n",
            "2019_macaron.zip\n",
            "0 / 4282\n",
            "500 / 4282\n",
            "1000 / 4282\n",
            "1500 / 4282\n",
            "2000 / 4282\n",
            "2500 / 4282\n",
            "3000 / 4282\n",
            "3500 / 4282\n",
            "4000 / 4282\n",
            "Result: 4272\n"
          ],
          "name": "stdout"
        }
      ]
    },
    {
      "cell_type": "code",
      "metadata": {
        "id": "ZDEQKvVaTX-x",
        "colab_type": "code",
        "outputId": "c251957b-8fd5-4420-f89f-b178c3780a4f",
        "colab": {
          "base_uri": "https://localhost:8080/",
          "height": 35
        }
      },
      "source": [
        ""
      ],
      "execution_count": 0,
      "outputs": [
        {
          "output_type": "stream",
          "text": [
            "d9816eadc28a3d8477105088f280f1bc\n"
          ],
          "name": "stdout"
        }
      ]
    }
  ]
}